{
  "nbformat": 4,
  "nbformat_minor": 0,
  "metadata": {
    "colab": {
      "name": "LSTM_projection.ipynb",
      "provenance": []
    },
    "kernelspec": {
      "name": "python3",
      "display_name": "Python 3"
    }
  },
  "cells": [
    {
      "cell_type": "code",
      "metadata": {
        "id": "eYx7ADLfZqXH"
      },
      "source": [
        "import pandas as pd\r\n",
        "import numpy as np\r\n",
        "import matplotlib.pyplot as plt\r\n",
        "%matplotlib inline"
      ],
      "execution_count": null,
      "outputs": []
    },
    {
      "cell_type": "code",
      "metadata": {
        "id": "aVC7nCnfaLO_"
      },
      "source": [
        "plt.style.use('ggplot')\r\n",
        "plt.rcParams['figure.figsize'] = (15, 10)"
      ],
      "execution_count": null,
      "outputs": []
    },
    {
      "cell_type": "markdown",
      "metadata": {
        "id": "Io_dpIF4bCWI"
      },
      "source": [
        "###Preprocessing"
      ]
    },
    {
      "cell_type": "code",
      "metadata": {
        "colab": {
          "base_uri": "https://localhost:8080/",
          "height": 206
        },
        "id": "0tnd97M4aSsL",
        "outputId": "a01ed284-4003-4655-b2ba-90963f05f2b1"
      },
      "source": [
        "df = pd.read_csv('Cases_US_None.csv')\r\n",
        "df.head()"
      ],
      "execution_count": null,
      "outputs": [
        {
          "output_type": "execute_result",
          "data": {
            "text/html": [
              "<div>\n",
              "<style scoped>\n",
              "    .dataframe tbody tr th:only-of-type {\n",
              "        vertical-align: middle;\n",
              "    }\n",
              "\n",
              "    .dataframe tbody tr th {\n",
              "        vertical-align: top;\n",
              "    }\n",
              "\n",
              "    .dataframe thead th {\n",
              "        text-align: right;\n",
              "    }\n",
              "</style>\n",
              "<table border=\"1\" class=\"dataframe\">\n",
              "  <thead>\n",
              "    <tr style=\"text-align: right;\">\n",
              "      <th></th>\n",
              "      <th>country</th>\n",
              "      <th>province</th>\n",
              "      <th>date</th>\n",
              "      <th>day_since100</th>\n",
              "      <th>case_cnt</th>\n",
              "      <th>death_cnt</th>\n",
              "      <th>new_hospitalization</th>\n",
              "      <th>total_hospitalization</th>\n",
              "      <th>new_icu</th>\n",
              "      <th>total_icu</th>\n",
              "      <th>new_recovered</th>\n",
              "      <th>total_recovered</th>\n",
              "    </tr>\n",
              "  </thead>\n",
              "  <tbody>\n",
              "    <tr>\n",
              "      <th>0</th>\n",
              "      <td>US</td>\n",
              "      <td>NaN</td>\n",
              "      <td>2020-01-22</td>\n",
              "      <td>-42</td>\n",
              "      <td>1</td>\n",
              "      <td>0</td>\n",
              "      <td>NaN</td>\n",
              "      <td>NaN</td>\n",
              "      <td>NaN</td>\n",
              "      <td>NaN</td>\n",
              "      <td>NaN</td>\n",
              "      <td>NaN</td>\n",
              "    </tr>\n",
              "    <tr>\n",
              "      <th>1</th>\n",
              "      <td>US</td>\n",
              "      <td>NaN</td>\n",
              "      <td>2020-01-23</td>\n",
              "      <td>-41</td>\n",
              "      <td>1</td>\n",
              "      <td>0</td>\n",
              "      <td>NaN</td>\n",
              "      <td>NaN</td>\n",
              "      <td>NaN</td>\n",
              "      <td>NaN</td>\n",
              "      <td>NaN</td>\n",
              "      <td>NaN</td>\n",
              "    </tr>\n",
              "    <tr>\n",
              "      <th>2</th>\n",
              "      <td>US</td>\n",
              "      <td>NaN</td>\n",
              "      <td>2020-01-24</td>\n",
              "      <td>-40</td>\n",
              "      <td>2</td>\n",
              "      <td>0</td>\n",
              "      <td>NaN</td>\n",
              "      <td>NaN</td>\n",
              "      <td>NaN</td>\n",
              "      <td>NaN</td>\n",
              "      <td>NaN</td>\n",
              "      <td>NaN</td>\n",
              "    </tr>\n",
              "    <tr>\n",
              "      <th>3</th>\n",
              "      <td>US</td>\n",
              "      <td>NaN</td>\n",
              "      <td>2020-01-25</td>\n",
              "      <td>-39</td>\n",
              "      <td>2</td>\n",
              "      <td>0</td>\n",
              "      <td>NaN</td>\n",
              "      <td>NaN</td>\n",
              "      <td>NaN</td>\n",
              "      <td>NaN</td>\n",
              "      <td>NaN</td>\n",
              "      <td>NaN</td>\n",
              "    </tr>\n",
              "    <tr>\n",
              "      <th>4</th>\n",
              "      <td>US</td>\n",
              "      <td>NaN</td>\n",
              "      <td>2020-01-26</td>\n",
              "      <td>-38</td>\n",
              "      <td>5</td>\n",
              "      <td>0</td>\n",
              "      <td>NaN</td>\n",
              "      <td>NaN</td>\n",
              "      <td>NaN</td>\n",
              "      <td>NaN</td>\n",
              "      <td>NaN</td>\n",
              "      <td>NaN</td>\n",
              "    </tr>\n",
              "  </tbody>\n",
              "</table>\n",
              "</div>"
            ],
            "text/plain": [
              "  country  province        date  ...  total_icu  new_recovered  total_recovered\n",
              "0      US       NaN  2020-01-22  ...        NaN            NaN              NaN\n",
              "1      US       NaN  2020-01-23  ...        NaN            NaN              NaN\n",
              "2      US       NaN  2020-01-24  ...        NaN            NaN              NaN\n",
              "3      US       NaN  2020-01-25  ...        NaN            NaN              NaN\n",
              "4      US       NaN  2020-01-26  ...        NaN            NaN              NaN\n",
              "\n",
              "[5 rows x 12 columns]"
            ]
          },
          "metadata": {
            "tags": []
          },
          "execution_count": 4
        }
      ]
    },
    {
      "cell_type": "code",
      "metadata": {
        "colab": {
          "base_uri": "https://localhost:8080/",
          "height": 238
        },
        "id": "DF7jbOnBadsq",
        "outputId": "44d3f499-2a7f-4289-ba5b-53020deea007"
      },
      "source": [
        "df.index = pd.PeriodIndex(df.date, freq='D')\r\n",
        "df.head()"
      ],
      "execution_count": null,
      "outputs": [
        {
          "output_type": "execute_result",
          "data": {
            "text/html": [
              "<div>\n",
              "<style scoped>\n",
              "    .dataframe tbody tr th:only-of-type {\n",
              "        vertical-align: middle;\n",
              "    }\n",
              "\n",
              "    .dataframe tbody tr th {\n",
              "        vertical-align: top;\n",
              "    }\n",
              "\n",
              "    .dataframe thead th {\n",
              "        text-align: right;\n",
              "    }\n",
              "</style>\n",
              "<table border=\"1\" class=\"dataframe\">\n",
              "  <thead>\n",
              "    <tr style=\"text-align: right;\">\n",
              "      <th></th>\n",
              "      <th>country</th>\n",
              "      <th>province</th>\n",
              "      <th>date</th>\n",
              "      <th>day_since100</th>\n",
              "      <th>case_cnt</th>\n",
              "      <th>death_cnt</th>\n",
              "      <th>new_hospitalization</th>\n",
              "      <th>total_hospitalization</th>\n",
              "      <th>new_icu</th>\n",
              "      <th>total_icu</th>\n",
              "      <th>new_recovered</th>\n",
              "      <th>total_recovered</th>\n",
              "    </tr>\n",
              "    <tr>\n",
              "      <th>date</th>\n",
              "      <th></th>\n",
              "      <th></th>\n",
              "      <th></th>\n",
              "      <th></th>\n",
              "      <th></th>\n",
              "      <th></th>\n",
              "      <th></th>\n",
              "      <th></th>\n",
              "      <th></th>\n",
              "      <th></th>\n",
              "      <th></th>\n",
              "      <th></th>\n",
              "    </tr>\n",
              "  </thead>\n",
              "  <tbody>\n",
              "    <tr>\n",
              "      <th>2020-01-22</th>\n",
              "      <td>US</td>\n",
              "      <td>NaN</td>\n",
              "      <td>2020-01-22</td>\n",
              "      <td>-42</td>\n",
              "      <td>1</td>\n",
              "      <td>0</td>\n",
              "      <td>NaN</td>\n",
              "      <td>NaN</td>\n",
              "      <td>NaN</td>\n",
              "      <td>NaN</td>\n",
              "      <td>NaN</td>\n",
              "      <td>NaN</td>\n",
              "    </tr>\n",
              "    <tr>\n",
              "      <th>2020-01-23</th>\n",
              "      <td>US</td>\n",
              "      <td>NaN</td>\n",
              "      <td>2020-01-23</td>\n",
              "      <td>-41</td>\n",
              "      <td>1</td>\n",
              "      <td>0</td>\n",
              "      <td>NaN</td>\n",
              "      <td>NaN</td>\n",
              "      <td>NaN</td>\n",
              "      <td>NaN</td>\n",
              "      <td>NaN</td>\n",
              "      <td>NaN</td>\n",
              "    </tr>\n",
              "    <tr>\n",
              "      <th>2020-01-24</th>\n",
              "      <td>US</td>\n",
              "      <td>NaN</td>\n",
              "      <td>2020-01-24</td>\n",
              "      <td>-40</td>\n",
              "      <td>2</td>\n",
              "      <td>0</td>\n",
              "      <td>NaN</td>\n",
              "      <td>NaN</td>\n",
              "      <td>NaN</td>\n",
              "      <td>NaN</td>\n",
              "      <td>NaN</td>\n",
              "      <td>NaN</td>\n",
              "    </tr>\n",
              "    <tr>\n",
              "      <th>2020-01-25</th>\n",
              "      <td>US</td>\n",
              "      <td>NaN</td>\n",
              "      <td>2020-01-25</td>\n",
              "      <td>-39</td>\n",
              "      <td>2</td>\n",
              "      <td>0</td>\n",
              "      <td>NaN</td>\n",
              "      <td>NaN</td>\n",
              "      <td>NaN</td>\n",
              "      <td>NaN</td>\n",
              "      <td>NaN</td>\n",
              "      <td>NaN</td>\n",
              "    </tr>\n",
              "    <tr>\n",
              "      <th>2020-01-26</th>\n",
              "      <td>US</td>\n",
              "      <td>NaN</td>\n",
              "      <td>2020-01-26</td>\n",
              "      <td>-38</td>\n",
              "      <td>5</td>\n",
              "      <td>0</td>\n",
              "      <td>NaN</td>\n",
              "      <td>NaN</td>\n",
              "      <td>NaN</td>\n",
              "      <td>NaN</td>\n",
              "      <td>NaN</td>\n",
              "      <td>NaN</td>\n",
              "    </tr>\n",
              "  </tbody>\n",
              "</table>\n",
              "</div>"
            ],
            "text/plain": [
              "           country  province  ... new_recovered  total_recovered\n",
              "date                          ...                               \n",
              "2020-01-22      US       NaN  ...           NaN              NaN\n",
              "2020-01-23      US       NaN  ...           NaN              NaN\n",
              "2020-01-24      US       NaN  ...           NaN              NaN\n",
              "2020-01-25      US       NaN  ...           NaN              NaN\n",
              "2020-01-26      US       NaN  ...           NaN              NaN\n",
              "\n",
              "[5 rows x 12 columns]"
            ]
          },
          "metadata": {
            "tags": []
          },
          "execution_count": 5
        }
      ]
    },
    {
      "cell_type": "code",
      "metadata": {
        "id": "ZUlkqM41afqx"
      },
      "source": [
        "dfUS= df.loc[df.country == \"US\"].copy()\r\n",
        "dfUS = dfUS.drop([\"country\", \"province\", \"new_hospitalization\", \"total_hospitalization\", \"new_icu\", \"total_icu\", \"new_recovered\", \"total_recovered\"], axis = 1)"
      ],
      "execution_count": null,
      "outputs": []
    },
    {
      "cell_type": "code",
      "metadata": {
        "id": "QnwVFJ0uazVl"
      },
      "source": [
        "case_cnt = dfUS['case_cnt']\r\n",
        "case_daily = [case_cnt[0]]\r\n",
        "death_cnt = dfUS['death_cnt']\r\n",
        "death_daily = [death_cnt[0]]\r\n",
        "for i in range(1,len(case_cnt)):\r\n",
        "  death_daily.append(death_cnt[i]-death_cnt[i-1])\r\n",
        "  case_daily.append(case_cnt[i]-case_cnt[i-1])\r\n",
        "dfUS['case_daily'] = case_daily \r\n",
        "dfUS['death_daily'] = death_daily "
      ],
      "execution_count": null,
      "outputs": []
    },
    {
      "cell_type": "code",
      "metadata": {
        "colab": {
          "base_uri": "https://localhost:8080/",
          "height": 238
        },
        "id": "aIRUahk2a1Nm",
        "outputId": "6f9f6e14-666f-4472-9b9c-8c7fad515e6e"
      },
      "source": [
        "dfUS.head()"
      ],
      "execution_count": null,
      "outputs": [
        {
          "output_type": "execute_result",
          "data": {
            "text/html": [
              "<div>\n",
              "<style scoped>\n",
              "    .dataframe tbody tr th:only-of-type {\n",
              "        vertical-align: middle;\n",
              "    }\n",
              "\n",
              "    .dataframe tbody tr th {\n",
              "        vertical-align: top;\n",
              "    }\n",
              "\n",
              "    .dataframe thead th {\n",
              "        text-align: right;\n",
              "    }\n",
              "</style>\n",
              "<table border=\"1\" class=\"dataframe\">\n",
              "  <thead>\n",
              "    <tr style=\"text-align: right;\">\n",
              "      <th></th>\n",
              "      <th>date</th>\n",
              "      <th>day_since100</th>\n",
              "      <th>case_cnt</th>\n",
              "      <th>death_cnt</th>\n",
              "      <th>case_daily</th>\n",
              "      <th>death_daily</th>\n",
              "    </tr>\n",
              "    <tr>\n",
              "      <th>date</th>\n",
              "      <th></th>\n",
              "      <th></th>\n",
              "      <th></th>\n",
              "      <th></th>\n",
              "      <th></th>\n",
              "      <th></th>\n",
              "    </tr>\n",
              "  </thead>\n",
              "  <tbody>\n",
              "    <tr>\n",
              "      <th>2020-01-22</th>\n",
              "      <td>2020-01-22</td>\n",
              "      <td>-42</td>\n",
              "      <td>1</td>\n",
              "      <td>0</td>\n",
              "      <td>1</td>\n",
              "      <td>0</td>\n",
              "    </tr>\n",
              "    <tr>\n",
              "      <th>2020-01-23</th>\n",
              "      <td>2020-01-23</td>\n",
              "      <td>-41</td>\n",
              "      <td>1</td>\n",
              "      <td>0</td>\n",
              "      <td>0</td>\n",
              "      <td>0</td>\n",
              "    </tr>\n",
              "    <tr>\n",
              "      <th>2020-01-24</th>\n",
              "      <td>2020-01-24</td>\n",
              "      <td>-40</td>\n",
              "      <td>2</td>\n",
              "      <td>0</td>\n",
              "      <td>1</td>\n",
              "      <td>0</td>\n",
              "    </tr>\n",
              "    <tr>\n",
              "      <th>2020-01-25</th>\n",
              "      <td>2020-01-25</td>\n",
              "      <td>-39</td>\n",
              "      <td>2</td>\n",
              "      <td>0</td>\n",
              "      <td>0</td>\n",
              "      <td>0</td>\n",
              "    </tr>\n",
              "    <tr>\n",
              "      <th>2020-01-26</th>\n",
              "      <td>2020-01-26</td>\n",
              "      <td>-38</td>\n",
              "      <td>5</td>\n",
              "      <td>0</td>\n",
              "      <td>3</td>\n",
              "      <td>0</td>\n",
              "    </tr>\n",
              "  </tbody>\n",
              "</table>\n",
              "</div>"
            ],
            "text/plain": [
              "                  date  day_since100  ...  case_daily  death_daily\n",
              "date                                  ...                         \n",
              "2020-01-22  2020-01-22           -42  ...           1            0\n",
              "2020-01-23  2020-01-23           -41  ...           0            0\n",
              "2020-01-24  2020-01-24           -40  ...           1            0\n",
              "2020-01-25  2020-01-25           -39  ...           0            0\n",
              "2020-01-26  2020-01-26           -38  ...           3            0\n",
              "\n",
              "[5 rows x 6 columns]"
            ]
          },
          "metadata": {
            "tags": []
          },
          "execution_count": 8
        }
      ]
    },
    {
      "cell_type": "code",
      "metadata": {
        "colab": {
          "base_uri": "https://localhost:8080/",
          "height": 238
        },
        "id": "loclsi60a36T",
        "outputId": "ba7ca315-d142-42e3-b899-9ee769c7f303"
      },
      "source": [
        "idx = dfUS.index[dfUS['death_daily'] > 0].tolist()\r\n",
        "dfB = dfUS.loc[idx]\r\n",
        "dfB.head()"
      ],
      "execution_count": null,
      "outputs": [
        {
          "output_type": "execute_result",
          "data": {
            "text/html": [
              "<div>\n",
              "<style scoped>\n",
              "    .dataframe tbody tr th:only-of-type {\n",
              "        vertical-align: middle;\n",
              "    }\n",
              "\n",
              "    .dataframe tbody tr th {\n",
              "        vertical-align: top;\n",
              "    }\n",
              "\n",
              "    .dataframe thead th {\n",
              "        text-align: right;\n",
              "    }\n",
              "</style>\n",
              "<table border=\"1\" class=\"dataframe\">\n",
              "  <thead>\n",
              "    <tr style=\"text-align: right;\">\n",
              "      <th></th>\n",
              "      <th>date</th>\n",
              "      <th>day_since100</th>\n",
              "      <th>case_cnt</th>\n",
              "      <th>death_cnt</th>\n",
              "      <th>case_daily</th>\n",
              "      <th>death_daily</th>\n",
              "    </tr>\n",
              "    <tr>\n",
              "      <th>date</th>\n",
              "      <th></th>\n",
              "      <th></th>\n",
              "      <th></th>\n",
              "      <th></th>\n",
              "      <th></th>\n",
              "      <th></th>\n",
              "    </tr>\n",
              "  </thead>\n",
              "  <tbody>\n",
              "    <tr>\n",
              "      <th>2020-02-29</th>\n",
              "      <td>2020-02-29</td>\n",
              "      <td>-4</td>\n",
              "      <td>24</td>\n",
              "      <td>1</td>\n",
              "      <td>8</td>\n",
              "      <td>1</td>\n",
              "    </tr>\n",
              "    <tr>\n",
              "      <th>2020-03-02</th>\n",
              "      <td>2020-03-02</td>\n",
              "      <td>-2</td>\n",
              "      <td>53</td>\n",
              "      <td>6</td>\n",
              "      <td>23</td>\n",
              "      <td>5</td>\n",
              "    </tr>\n",
              "    <tr>\n",
              "      <th>2020-03-03</th>\n",
              "      <td>2020-03-03</td>\n",
              "      <td>-1</td>\n",
              "      <td>73</td>\n",
              "      <td>7</td>\n",
              "      <td>20</td>\n",
              "      <td>1</td>\n",
              "    </tr>\n",
              "    <tr>\n",
              "      <th>2020-03-04</th>\n",
              "      <td>2020-03-04</td>\n",
              "      <td>0</td>\n",
              "      <td>104</td>\n",
              "      <td>11</td>\n",
              "      <td>31</td>\n",
              "      <td>4</td>\n",
              "    </tr>\n",
              "    <tr>\n",
              "      <th>2020-03-05</th>\n",
              "      <td>2020-03-05</td>\n",
              "      <td>1</td>\n",
              "      <td>174</td>\n",
              "      <td>12</td>\n",
              "      <td>70</td>\n",
              "      <td>1</td>\n",
              "    </tr>\n",
              "  </tbody>\n",
              "</table>\n",
              "</div>"
            ],
            "text/plain": [
              "                  date  day_since100  ...  case_daily  death_daily\n",
              "date                                  ...                         \n",
              "2020-02-29  2020-02-29            -4  ...           8            1\n",
              "2020-03-02  2020-03-02            -2  ...          23            5\n",
              "2020-03-03  2020-03-03            -1  ...          20            1\n",
              "2020-03-04  2020-03-04             0  ...          31            4\n",
              "2020-03-05  2020-03-05             1  ...          70            1\n",
              "\n",
              "[5 rows x 6 columns]"
            ]
          },
          "metadata": {
            "tags": []
          },
          "execution_count": 9
        }
      ]
    },
    {
      "cell_type": "code",
      "metadata": {
        "colab": {
          "base_uri": "https://localhost:8080/",
          "height": 238
        },
        "id": "FK0bgdj2babJ",
        "outputId": "18ac42e3-a0a3-4e89-a1ea-9b412f1fa62b"
      },
      "source": [
        "dfB.date = pd.DatetimeIndex(dfB.date)\r\n",
        "dfB[\"timeIndex\"] = dfB.date - dfB.date.min()\r\n",
        "dfB[\"timeIndex\"] =  dfB[\"timeIndex\"]/np.timedelta64(1, 'D')\r\n",
        "dfB[\"timeIndex\"] = dfB[\"timeIndex\"].round(0).astype(int)\r\n",
        "dfB.head()"
      ],
      "execution_count": null,
      "outputs": [
        {
          "output_type": "execute_result",
          "data": {
            "text/html": [
              "<div>\n",
              "<style scoped>\n",
              "    .dataframe tbody tr th:only-of-type {\n",
              "        vertical-align: middle;\n",
              "    }\n",
              "\n",
              "    .dataframe tbody tr th {\n",
              "        vertical-align: top;\n",
              "    }\n",
              "\n",
              "    .dataframe thead th {\n",
              "        text-align: right;\n",
              "    }\n",
              "</style>\n",
              "<table border=\"1\" class=\"dataframe\">\n",
              "  <thead>\n",
              "    <tr style=\"text-align: right;\">\n",
              "      <th></th>\n",
              "      <th>date</th>\n",
              "      <th>day_since100</th>\n",
              "      <th>case_cnt</th>\n",
              "      <th>death_cnt</th>\n",
              "      <th>case_daily</th>\n",
              "      <th>death_daily</th>\n",
              "      <th>timeIndex</th>\n",
              "    </tr>\n",
              "    <tr>\n",
              "      <th>date</th>\n",
              "      <th></th>\n",
              "      <th></th>\n",
              "      <th></th>\n",
              "      <th></th>\n",
              "      <th></th>\n",
              "      <th></th>\n",
              "      <th></th>\n",
              "    </tr>\n",
              "  </thead>\n",
              "  <tbody>\n",
              "    <tr>\n",
              "      <th>2020-02-29</th>\n",
              "      <td>2020-02-29</td>\n",
              "      <td>-4</td>\n",
              "      <td>24</td>\n",
              "      <td>1</td>\n",
              "      <td>8</td>\n",
              "      <td>1</td>\n",
              "      <td>0</td>\n",
              "    </tr>\n",
              "    <tr>\n",
              "      <th>2020-03-02</th>\n",
              "      <td>2020-03-02</td>\n",
              "      <td>-2</td>\n",
              "      <td>53</td>\n",
              "      <td>6</td>\n",
              "      <td>23</td>\n",
              "      <td>5</td>\n",
              "      <td>2</td>\n",
              "    </tr>\n",
              "    <tr>\n",
              "      <th>2020-03-03</th>\n",
              "      <td>2020-03-03</td>\n",
              "      <td>-1</td>\n",
              "      <td>73</td>\n",
              "      <td>7</td>\n",
              "      <td>20</td>\n",
              "      <td>1</td>\n",
              "      <td>3</td>\n",
              "    </tr>\n",
              "    <tr>\n",
              "      <th>2020-03-04</th>\n",
              "      <td>2020-03-04</td>\n",
              "      <td>0</td>\n",
              "      <td>104</td>\n",
              "      <td>11</td>\n",
              "      <td>31</td>\n",
              "      <td>4</td>\n",
              "      <td>4</td>\n",
              "    </tr>\n",
              "    <tr>\n",
              "      <th>2020-03-05</th>\n",
              "      <td>2020-03-05</td>\n",
              "      <td>1</td>\n",
              "      <td>174</td>\n",
              "      <td>12</td>\n",
              "      <td>70</td>\n",
              "      <td>1</td>\n",
              "      <td>5</td>\n",
              "    </tr>\n",
              "  </tbody>\n",
              "</table>\n",
              "</div>"
            ],
            "text/plain": [
              "                 date  day_since100  ...  death_daily  timeIndex\n",
              "date                                 ...                        \n",
              "2020-02-29 2020-02-29            -4  ...            1          0\n",
              "2020-03-02 2020-03-02            -2  ...            5          2\n",
              "2020-03-03 2020-03-03            -1  ...            1          3\n",
              "2020-03-04 2020-03-04             0  ...            4          4\n",
              "2020-03-05 2020-03-05             1  ...            1          5\n",
              "\n",
              "[5 rows x 7 columns]"
            ]
          },
          "metadata": {
            "tags": []
          },
          "execution_count": 13
        }
      ]
    },
    {
      "cell_type": "markdown",
      "metadata": {
        "id": "Os-R6CBpbGVz"
      },
      "source": [
        "###Modeling"
      ]
    },
    {
      "cell_type": "code",
      "metadata": {
        "colab": {
          "base_uri": "https://localhost:8080/",
          "height": 627
        },
        "id": "g99toApzbBQa",
        "outputId": "0fa0e2e6-7b4d-40f8-c918-c91071bb7fb0"
      },
      "source": [
        "dfB.plot(kind=\"line\", x=\"timeIndex\", y = [\"death_cnt\"]) #choose 'case_cnt' or 'death_cnt' based on the problem"
      ],
      "execution_count": 88,
      "outputs": [
        {
          "output_type": "execute_result",
          "data": {
            "text/plain": [
              "<matplotlib.axes._subplots.AxesSubplot at 0x7ff586baa470>"
            ]
          },
          "metadata": {
            "tags": []
          },
          "execution_count": 88
        },
        {
          "output_type": "display_data",
          "data": {
            "image/png": "[encoded data removed]",
            "text/plain": [
              "<Figure size 1080x720 with 1 Axes>"
            ]
          },
          "metadata": {
            "tags": []
          }
        }
      ]
    },
    {
      "cell_type": "code",
      "metadata": {
        "id": "ZMO3iNAMb82P"
      },
      "source": [
        "df_inp = dfB.death_cnt #choose 'case_cnt' or 'death_cnt' based on the problem"
      ],
      "execution_count": 89,
      "outputs": []
    },
    {
      "cell_type": "code",
      "metadata": {
        "id": "LJFNPxKrcRmG"
      },
      "source": [
        "# univariate data preparation\r\n",
        "from numpy import array\r\n",
        " \r\n",
        "# split a univariate sequence into samples\r\n",
        "def split_sequence(sequence, n_steps):\r\n",
        "\tX, y = list(), list()\r\n",
        "\tfor i in range(len(sequence)):\r\n",
        "\t\t# find the end of this pattern\r\n",
        "\t\tend_ix = i + n_steps\r\n",
        "\t\t# check if we are beyond the sequence\r\n",
        "\t\tif end_ix > len(sequence)-1:\r\n",
        "\t\t\tbreak\r\n",
        "\t\t# gather input and output parts of the pattern\r\n",
        "\t\tseq_x, seq_y = sequence[i:end_ix], sequence[end_ix]\r\n",
        "\t\tX.append(seq_x)\r\n",
        "\t\ty.append(seq_y)\r\n",
        "\treturn array(X), array(y)\r\n",
        "\r\n",
        "# # choose a number of time steps\r\n",
        "# n_steps = 7\r\n",
        "# # split into samples\r\n",
        "# X, y = split_sequence(raw_seq, n_steps)\r\n"
      ],
      "execution_count": 90,
      "outputs": []
    },
    {
      "cell_type": "markdown",
      "metadata": {
        "id": "aZFhMJy4caSH"
      },
      "source": [
        "####Vanilla LSTM"
      ]
    },
    {
      "cell_type": "code",
      "metadata": {
        "id": "qSRvzzLBcZpN",
        "colab": {
          "base_uri": "https://localhost:8080/"
        },
        "outputId": "09388fd4-cbd5-4403-e14e-6f3810cc39a9"
      },
      "source": [
        "from numpy import array\r\n",
        "from keras.models import Sequential\r\n",
        "from keras.layers import LSTM\r\n",
        "from keras.layers import Dense\r\n",
        " \r\n",
        "# split a univariate sequence into samples\r\n",
        "def split_sequence(sequence, n_steps):\r\n",
        "\tX, y = list(), list()\r\n",
        "\tfor i in range(len(sequence)):\r\n",
        "\t\t# find the end of this pattern\r\n",
        "\t\tend_ix = i + n_steps\r\n",
        "\t\t# check if we are beyond the sequence\r\n",
        "\t\tif end_ix > len(sequence)-1:\r\n",
        "\t\t\tbreak\r\n",
        "\t\t# gather input and output parts of the pattern\r\n",
        "\t\tseq_x, seq_y = sequence[i:end_ix], sequence[end_ix]\r\n",
        "\t\tX.append(seq_x)\r\n",
        "\t\ty.append(seq_y)\r\n",
        "\treturn array(X), array(y)\r\n",
        " \r\n",
        "raw_seq = array(df_inp[:-30])\r\n",
        "# choose a number of time steps\r\n",
        "n_steps = 7\r\n",
        "# split into samples\r\n",
        "X, y = split_sequence(raw_seq, n_steps)\r\n",
        "# reshape from [samples, timesteps] into [samples, timesteps, features]\r\n",
        "n_features = 1\r\n",
        "X = X.reshape((X.shape[0], X.shape[1], n_features))\r\n",
        "# define model\r\n",
        "model = Sequential()\r\n",
        "model.add(LSTM(20, activation='relu', input_shape=(n_steps, n_features)))\r\n",
        "model.add(Dense(1))\r\n",
        "model.compile(optimizer='adam', loss='mse')\r\n",
        "# fit model\r\n",
        "model.fit(X, y, epochs=200, verbose=0)\r\n"
      ],
      "execution_count": 91,
      "outputs": [
        {
          "output_type": "execute_result",
          "data": {
            "text/plain": [
              "<tensorflow.python.keras.callbacks.History at 0x7ff586a53f28>"
            ]
          },
          "metadata": {
            "tags": []
          },
          "execution_count": 91
        }
      ]
    },
    {
      "cell_type": "code",
      "metadata": {
        "id": "xI4O-4n0cpiL"
      },
      "source": [
        "# prediction\r\n",
        "y_pred = []\r\n",
        "x = array(df_inp[-37:-30])\r\n",
        "for i in range(30):\r\n",
        "  x_input = x.reshape((1, n_steps, n_features))\r\n",
        "  yhat = model.predict(x_input, verbose=0)\r\n",
        "  y_pred.append(yhat)\r\n",
        "  x = list(x)\r\n",
        "  x = x[1:] + [int(yhat)]\r\n",
        "  x = array(x)\r\n",
        "# y_pred"
      ],
      "execution_count": 92,
      "outputs": []
    },
    {
      "cell_type": "code",
      "metadata": {
        "id": "bDiLojnEcvUT"
      },
      "source": [
        "proj = list(df_inp[:-len(y_pred)]) + [int(y_pred[x][0]) for x in range(len(y_pred))]\r\n",
        "proj = array(proj)"
      ],
      "execution_count": 93,
      "outputs": []
    },
    {
      "cell_type": "code",
      "metadata": {
        "colab": {
          "base_uri": "https://localhost:8080/",
          "height": 610
        },
        "id": "BURqnUdBczPN",
        "outputId": "f397616a-5839-41ee-e3a3-b5879368d4b1"
      },
      "source": [
        "fig, ax = plt.subplots()\r\n",
        "ax.plot(dfB.date, df_inp)\r\n",
        "ax.plot(dfB.date, proj)"
      ],
      "execution_count": 94,
      "outputs": [
        {
          "output_type": "execute_result",
          "data": {
            "text/plain": [
              "[<matplotlib.lines.Line2D at 0x7ff585651828>]"
            ]
          },
          "metadata": {
            "tags": []
          },
          "execution_count": 94
        },
        {
          "output_type": "display_data",
          "data": {
            "image/png": "[encoded data removed]",
            "text/plain": [
              "<Figure size 1080x720 with 1 Axes>"
            ]
          },
          "metadata": {
            "tags": []
          }
        }
      ]
    },
    {
      "cell_type": "markdown",
      "metadata": {
        "id": "WzohKbYHc8Fh"
      },
      "source": [
        "####Stacked LSTM"
      ]
    },
    {
      "cell_type": "code",
      "metadata": {
        "colab": {
          "base_uri": "https://localhost:8080/"
        },
        "id": "QklmdqKHc-M7",
        "outputId": "7e22d916-8824-45f1-8c10-54302f987c90"
      },
      "source": [
        "from numpy import array\r\n",
        "from keras.models import Sequential\r\n",
        "from keras.layers import LSTM\r\n",
        "from keras.layers import Dense\r\n",
        " \r\n",
        "# split a univariate sequence into samples\r\n",
        "def split_sequence(sequence, n_steps):\r\n",
        "\tX, y = list(), list()\r\n",
        "\tfor i in range(len(sequence)):\r\n",
        "\t\t# find the end of this pattern\r\n",
        "\t\tend_ix = i + n_steps\r\n",
        "\t\t# check if we are beyond the sequence\r\n",
        "\t\tif end_ix > len(sequence)-1:\r\n",
        "\t\t\tbreak\r\n",
        "\t\t# gather input and output parts of the pattern\r\n",
        "\t\tseq_x, seq_y = sequence[i:end_ix], sequence[end_ix]\r\n",
        "\t\tX.append(seq_x)\r\n",
        "\t\ty.append(seq_y)\r\n",
        "\treturn array(X), array(y)\r\n",
        " \r\n",
        "raw_seq = array(df_inp[:-30])\r\n",
        "# choose a number of time steps\r\n",
        "n_steps = 7\r\n",
        "# split into samples\r\n",
        "X, y = split_sequence(raw_seq, n_steps)\r\n",
        "# reshape from [samples, timesteps] into [samples, timesteps, features]\r\n",
        "n_features = 1\r\n",
        "X = X.reshape((X.shape[0], X.shape[1], n_features))\r\n",
        "model = Sequential()\r\n",
        "model.add(LSTM(20, activation='relu', return_sequences=True, input_shape=(n_steps, n_features)))\r\n",
        "model.add(LSTM(20, activation='relu'))\r\n",
        "model.add(Dense(1))\r\n",
        "model.compile(optimizer='adam', loss='mse')\r\n",
        "# fit model\r\n",
        "model.fit(X, y, epochs=200, verbose=0)"
      ],
      "execution_count": 96,
      "outputs": [
        {
          "output_type": "execute_result",
          "data": {
            "text/plain": [
              "<tensorflow.python.keras.callbacks.History at 0x7ff584817978>"
            ]
          },
          "metadata": {
            "tags": []
          },
          "execution_count": 96
        }
      ]
    },
    {
      "cell_type": "code",
      "metadata": {
        "id": "lpFrnDLndTTu"
      },
      "source": [
        "# prediction\r\n",
        "y_pred = []\r\n",
        "x = array(df_inp[-37:-30])\r\n",
        "for i in range(30):\r\n",
        "  # x_input = X_test[i,:]\r\n",
        "  x_input = x.reshape((1, n_steps, n_features))\r\n",
        "  yhat = model.predict(x_input, verbose=0)\r\n",
        "  y_pred.append(yhat)\r\n",
        "  x = list(x)\r\n",
        "  x = x[1:] + [int(yhat)]\r\n",
        "  x = array(x)\r\n",
        "# y_pred"
      ],
      "execution_count": 97,
      "outputs": []
    },
    {
      "cell_type": "code",
      "metadata": {
        "colab": {
          "base_uri": "https://localhost:8080/",
          "height": 610
        },
        "id": "dhxTDrZNdYmH",
        "outputId": "412c706f-66c2-4763-f8eb-0c2a25d9de87"
      },
      "source": [
        "proj1 = list(df_inp[:-len(y_pred)]) + [int(y_pred[x][0]) for x in range(len(y_pred))]\r\n",
        "proj1 = array(proj1)\r\n",
        "\r\n",
        "plt.plot(dfB.date, proj, label='Vanilla LSTM')\r\n",
        "plt.plot(dfB.date, proj1, label='Stacked LSTM')\r\n",
        "plt.plot(dfB.date, df_inp, label='Actual')\r\n",
        "plt.legend()"
      ],
      "execution_count": 98,
      "outputs": [
        {
          "output_type": "execute_result",
          "data": {
            "text/plain": [
              "<matplotlib.legend.Legend at 0x7ff583145e80>"
            ]
          },
          "metadata": {
            "tags": []
          },
          "execution_count": 98
        },
        {
          "output_type": "display_data",
          "data": {
            "image/png": "[encoded data removed]",
            "text/plain": [
              "<Figure size 1080x720 with 1 Axes>"
            ]
          },
          "metadata": {
            "tags": []
          }
        }
      ]
    },
    {
      "cell_type": "markdown",
      "metadata": {
        "id": "NIFsCkAwd--l"
      },
      "source": [
        "####Bidirectional LSTM"
      ]
    },
    {
      "cell_type": "code",
      "metadata": {
        "colab": {
          "base_uri": "https://localhost:8080/"
        },
        "id": "4vHM3v0DeCfs",
        "outputId": "dc5b5eb4-bed8-4a1a-f618-c5692efe9e7c"
      },
      "source": [
        "from keras.layers import Bidirectional\r\n",
        "# define model\r\n",
        "model = Sequential()\r\n",
        "model.add(Bidirectional(LSTM(20, activation='relu'), input_shape=(n_steps, n_features)))\r\n",
        "model.add(Dense(1))\r\n",
        "model.compile(optimizer='adam', loss='mse')\r\n",
        "# fit model\r\n",
        "model.fit(X, y, epochs=200, verbose=0)"
      ],
      "execution_count": 99,
      "outputs": [
        {
          "output_type": "execute_result",
          "data": {
            "text/plain": [
              "<tensorflow.python.keras.callbacks.History at 0x7ff5830ae9b0>"
            ]
          },
          "metadata": {
            "tags": []
          },
          "execution_count": 99
        }
      ]
    },
    {
      "cell_type": "code",
      "metadata": {
        "id": "3OzNd5WKeIYT"
      },
      "source": [
        "# prediction\r\n",
        "y_pred = []\r\n",
        "x = array(df_inp[-37:-30])\r\n",
        "for i in range(30):\r\n",
        "  x_input = x.reshape((1, n_steps, n_features))\r\n",
        "  yhat = model.predict(x_input, verbose=0)\r\n",
        "  y_pred.append(yhat)\r\n",
        "  x = list(x)\r\n",
        "  x = x[1:] + [int(yhat)]\r\n",
        "  x = array(x)"
      ],
      "execution_count": 100,
      "outputs": []
    },
    {
      "cell_type": "code",
      "metadata": {
        "colab": {
          "base_uri": "https://localhost:8080/",
          "height": 610
        },
        "id": "FpGLcU0FePba",
        "outputId": "a85bc20e-8aa5-448c-ca51-851dda69564a"
      },
      "source": [
        "proj2 = list(df_inp[:-len(y_pred)]) + [int(y_pred[x][0]) for x in range(len(y_pred))]\r\n",
        "proj2 = array(proj2)\r\n",
        "\r\n",
        "plt.plot(dfB.date, proj, label='Vanilla LSTM')\r\n",
        "plt.plot(dfB.date, proj1, label='Stacked LSTM')\r\n",
        "plt.plot(dfB.date, proj2, label='Bidirectional LSTM')\r\n",
        "plt.plot(dfB.date, df_inp, label='Actual')\r\n",
        "plt.legend()"
      ],
      "execution_count": 101,
      "outputs": [
        {
          "output_type": "execute_result",
          "data": {
            "text/plain": [
              "<matplotlib.legend.Legend at 0x7ff581e24ef0>"
            ]
          },
          "metadata": {
            "tags": []
          },
          "execution_count": 101
        },
        {
          "output_type": "display_data",
          "data": {
            "image/png": "[encoded data removed]",
            "text/plain": [
              "<Figure size 1080x720 with 1 Axes>"
            ]
          },
          "metadata": {
            "tags": []
          }
        }
      ]
    },
    {
      "cell_type": "markdown",
      "metadata": {
        "id": "ZAhlVtHPeWCq"
      },
      "source": [
        "####CNN+LSTM"
      ]
    },
    {
      "cell_type": "code",
      "metadata": {
        "colab": {
          "base_uri": "https://localhost:8080/"
        },
        "id": "H21NbtCzeTiT",
        "outputId": "66c3149d-2b71-4822-c091-98c3c52aad4b"
      },
      "source": [
        "from numpy import array\r\n",
        "from keras.models import Sequential\r\n",
        "from keras.layers import LSTM\r\n",
        "from keras.layers import Dense\r\n",
        "from keras.layers import Flatten\r\n",
        "from keras.layers import TimeDistributed\r\n",
        "from keras.layers.convolutional import Conv1D\r\n",
        "from keras.layers.convolutional import MaxPooling1D\r\n",
        " \r\n",
        "# split a univariate sequence into samples\r\n",
        "def split_sequence(sequence, n_steps):\r\n",
        "\tX, y = list(), list()\r\n",
        "\tfor i in range(len(sequence)):\r\n",
        "\t\t# find the end of this pattern\r\n",
        "\t\tend_ix = i + n_steps\r\n",
        "\t\t# check if we are beyond the sequence\r\n",
        "\t\tif end_ix > len(sequence)-1:\r\n",
        "\t\t\tbreak\r\n",
        "\t\t# gather input and output parts of the pattern\r\n",
        "\t\tseq_x, seq_y = sequence[i:end_ix], sequence[end_ix]\r\n",
        "\t\tX.append(seq_x)\r\n",
        "\t\ty.append(seq_y)\r\n",
        "\treturn array(X), array(y)\r\n",
        "\r\n",
        "# choose a number of time steps\r\n",
        "n_steps = 6\r\n",
        "# split into samples\r\n",
        "X, y = split_sequence(raw_seq, n_steps)\r\n",
        "# reshape from [samples, timesteps] into [samples, subsequences, timesteps, features]\r\n",
        "n_features = 1\r\n",
        "n_seq = 3\r\n",
        "n_steps = 2\r\n",
        "X = X.reshape((X.shape[0], n_seq, n_steps, n_features))\r\n",
        "# define model\r\n",
        "model = Sequential()\r\n",
        "model.add(TimeDistributed(Conv1D(filters=64, kernel_size=1, activation='relu'), input_shape=(None, n_steps, n_features)))\r\n",
        "model.add(TimeDistributed(MaxPooling1D(pool_size=2)))\r\n",
        "model.add(TimeDistributed(Flatten()))\r\n",
        "model.add(LSTM(20, activation='relu'))\r\n",
        "model.add(Dense(1))\r\n",
        "model.compile(optimizer='adam', loss='mse')\r\n",
        "# fit model\r\n",
        "model.fit(X, y, epochs=500, verbose=0)"
      ],
      "execution_count": 105,
      "outputs": [
        {
          "output_type": "execute_result",
          "data": {
            "text/plain": [
              "<tensorflow.python.keras.callbacks.History at 0x7ff5807bbf60>"
            ]
          },
          "metadata": {
            "tags": []
          },
          "execution_count": 105
        }
      ]
    },
    {
      "cell_type": "code",
      "metadata": {
        "id": "I3D3_IKcegl2"
      },
      "source": [
        "y_pred = []\r\n",
        "x = array(df_inp[-36:-30])\r\n",
        "for i in range(30):\r\n",
        "  # x_input = X_test[i,:]\r\n",
        "  x_input = x.reshape((1, n_seq, n_steps, n_features))\r\n",
        "  yhat = model.predict(x_input, verbose=0)\r\n",
        "  y_pred.append(yhat)\r\n",
        "  x = list(x)\r\n",
        "  x = x[1:] + [int(yhat)]\r\n",
        "  x = array(x)"
      ],
      "execution_count": 106,
      "outputs": []
    },
    {
      "cell_type": "code",
      "metadata": {
        "colab": {
          "base_uri": "https://localhost:8080/",
          "height": 610
        },
        "id": "SuSdUjzyei93",
        "outputId": "7959cb26-4537-442b-ea6f-14178b1f9bf3"
      },
      "source": [
        "proj3 = list(df_inp[:-len(y_pred)]) + [int(y_pred[x][0]) for x in range(len(y_pred))]\r\n",
        "proj3 = array(proj3)\r\n",
        "\r\n",
        "plt.plot(dfB.date, proj, label='Vanilla LSTM')\r\n",
        "plt.plot(dfB.date, proj1, label='Stacked LSTM')\r\n",
        "plt.plot(dfB.date, proj2, label='Bidirectional LSTM')\r\n",
        "plt.plot(dfB.date, proj3, label='CNN LSTM')\r\n",
        "plt.plot(dfB.date, df_inp, label='Actual')\r\n",
        "plt.legend()"
      ],
      "execution_count": 107,
      "outputs": [
        {
          "output_type": "execute_result",
          "data": {
            "text/plain": [
              "<matplotlib.legend.Legend at 0x7ff57f3eb438>"
            ]
          },
          "metadata": {
            "tags": []
          },
          "execution_count": 107
        },
        {
          "output_type": "display_data",
          "data": {
            "image/png": "[encoded data removed]",
            "text/plain": [
              "<Figure size 1080x720 with 1 Axes>"
            ]
          },
          "metadata": {
            "tags": []
          }
        }
      ]
    },
    {
      "cell_type": "markdown",
      "metadata": {
        "id": "3aOgLmNleuEk"
      },
      "source": [
        "####ConvLSTM"
      ]
    },
    {
      "cell_type": "code",
      "metadata": {
        "colab": {
          "base_uri": "https://localhost:8080/"
        },
        "id": "ggXLhozseqo_",
        "outputId": "b03b0f6f-4a5a-4772-a1b8-90ea17b5861b"
      },
      "source": [
        "from keras.layers import ConvLSTM2D\r\n",
        "# split a univariate sequence into samples\r\n",
        "def split_sequence(sequence, n_steps):\r\n",
        "\tX, y = list(), list()\r\n",
        "\tfor i in range(len(sequence)):\r\n",
        "\t\t# find the end of this pattern\r\n",
        "\t\tend_ix = i + n_steps\r\n",
        "\t\t# check if we are beyond the sequence\r\n",
        "\t\tif end_ix > len(sequence)-1:\r\n",
        "\t\t\tbreak\r\n",
        "\t\t# gather input and output parts of the pattern\r\n",
        "\t\tseq_x, seq_y = sequence[i:end_ix], sequence[end_ix]\r\n",
        "\t\tX.append(seq_x)\r\n",
        "\t\ty.append(seq_y)\r\n",
        "\treturn array(X), array(y)\r\n",
        " \r\n",
        "# choose a number of time steps\r\n",
        "n_steps = 6\r\n",
        "# split into samples\r\n",
        "X, y = split_sequence(raw_seq, n_steps)\r\n",
        "# reshape from [samples, timesteps] into [samples, timesteps, rows, columns, features]\r\n",
        "n_features = 1\r\n",
        "n_seq = 3\r\n",
        "n_steps = 2\r\n",
        "X = X.reshape((X.shape[0], n_seq, 1, n_steps, n_features))\r\n",
        "# define model\r\n",
        "model = Sequential()\r\n",
        "model.add(ConvLSTM2D(filters=64, kernel_size=(1,2), activation='relu', input_shape=(n_seq, 1, n_steps, n_features)))\r\n",
        "model.add(Flatten())\r\n",
        "model.add(Dense(1))\r\n",
        "model.compile(optimizer='adam', loss='mse')\r\n",
        "# fit model\r\n",
        "model.fit(X, y, epochs=500, verbose=0)"
      ],
      "execution_count": 119,
      "outputs": [
        {
          "output_type": "execute_result",
          "data": {
            "text/plain": [
              "<tensorflow.python.keras.callbacks.History at 0x7ff57da60cf8>"
            ]
          },
          "metadata": {
            "tags": []
          },
          "execution_count": 119
        }
      ]
    },
    {
      "cell_type": "code",
      "metadata": {
        "id": "e0qc6cwrezrc"
      },
      "source": [
        "# prediction\r\n",
        "y_pred = []\r\n",
        "x = array(df_inp[-36:-30])\r\n",
        "for i in range(30):\r\n",
        "  x_input = x.reshape((1, n_seq, 1, n_steps, n_features))\r\n",
        "  yhat = model.predict(x_input, verbose=0)\r\n",
        "  y_pred.append(yhat)\r\n",
        "  x = list(x)\r\n",
        "  x = x[1:] + [int(yhat)]\r\n",
        "  x = array(x)"
      ],
      "execution_count": 120,
      "outputs": []
    },
    {
      "cell_type": "code",
      "metadata": {
        "colab": {
          "base_uri": "https://localhost:8080/",
          "height": 609
        },
        "id": "GLOdb4zhe3jg",
        "outputId": "018e5114-ec4f-48e4-a9b0-5e5fa010fe20"
      },
      "source": [
        "proj4 = list(df_inp[:-len(y_pred)]) + [int(y_pred[x][0]) for x in range(len(y_pred))]\r\n",
        "proj4 = array(proj4)\r\n",
        "\r\n",
        "plt.plot(dfB.date, proj, label='Vanilla LSTM')\r\n",
        "plt.plot(dfB.date, proj1, label='Stacked LSTM')\r\n",
        "plt.plot(dfB.date, proj2, label='Bidirectional LSTM')\r\n",
        "plt.plot(dfB.date, proj3, label='CNN+LSTM')\r\n",
        "plt.plot(dfB.date, proj4, label='Conv LSTM')\r\n",
        "plt.plot(dfB.date, df_inp, label='Actual', color = 'blue', linewidth=2)\r\n",
        "plt.legend()\r\n",
        "plt.xlabel('Date')\r\n",
        "plt.ylabel('Total Deaths')\r\n",
        "B = plt.xlim()\r\n",
        "L = B[1] - B[0]\r\n",
        "plt.xlim(B[1] - int(L/2), B[1])\r\n",
        "plt.show()"
      ],
      "execution_count": 121,
      "outputs": [
        {
          "output_type": "display_data",
          "data": {
            "image/png": "[encoded data removed]",
            "text/plain": [
              "<Figure size 1080x720 with 1 Axes>"
            ]
          },
          "metadata": {
            "tags": []
          }
        }
      ]
    },
    {
      "cell_type": "code",
      "metadata": {
        "id": "EZ1NobhMfQSF"
      },
      "source": [
        "act = array(dfB['death_daily'])\r\n",
        "act = act[1:]\r\n",
        "date = array(dfB.date)\r\n",
        "date = date[1:]"
      ],
      "execution_count": 122,
      "outputs": []
    },
    {
      "cell_type": "code",
      "metadata": {
        "id": "MpJX1XLIfGj1"
      },
      "source": [
        "# Daily Projections\r\n",
        "daily_proj = proj[1:] - proj[:-1]\r\n",
        "daily_proj1 = proj1[1:] - proj1[:-1]\r\n",
        "daily_proj2 = proj2[1:] - proj2[:-1]\r\n",
        "daily_proj3 = proj3[1:] - proj3[:-1]\r\n",
        "daily_proj4 = proj4[1:] - proj4[:-1]\r\n",
        "\r\n",
        "daily_proj[-30] = act[-30]\r\n",
        "daily_proj1[-30] = act[-30]\r\n",
        "daily_proj2[-30] = act[-30]\r\n",
        "daily_proj3[-30] = act[-30]\r\n",
        "daily_proj4[-30] = act[-30]"
      ],
      "execution_count": 123,
      "outputs": []
    },
    {
      "cell_type": "code",
      "metadata": {
        "id": "d5kvm7IRfWxK"
      },
      "source": [
        "def mov_avg(x, w):\r\n",
        "    return np.convolve(x, np.ones(w), 'valid') / w"
      ],
      "execution_count": 117,
      "outputs": []
    },
    {
      "cell_type": "code",
      "metadata": {
        "colab": {
          "base_uri": "https://localhost:8080/",
          "height": 609
        },
        "id": "-7kcNA_kfYvG",
        "outputId": "1df3da0b-0228-4457-fdb0-dfeab0f536e6"
      },
      "source": [
        "plt.plot(date[3:-3], mov_avg(daily_proj,7), label='Vanilla LSTM')\r\n",
        "plt.plot(date[3:-3], mov_avg(daily_proj1,7), label='Stacked LSTM')\r\n",
        "plt.plot(date[3:-3], mov_avg(daily_proj2,7), label='Bidirectional LSTM')\r\n",
        "plt.plot(date[3:-3], mov_avg(daily_proj3,7), label='CNN+LSTM')\r\n",
        "plt.plot(date[3:-3], mov_avg(daily_proj4,7), label='Conv LSTM')\r\n",
        "plt.plot(date[3:-3], mov_avg(act,7), label='Actual Roll Avg', color = 'blue', linewidth = 2)\r\n",
        "plt.scatter(date[3:-3], act[3:-3], label='Actual')\r\n",
        "plt.legend(loc='upper left')\r\n",
        "plt.xlabel('Date')\r\n",
        "plt.ylabel('Daily Deaths')\r\n",
        "B = plt.xlim()\r\n",
        "L = B[1] - B[0]\r\n",
        "plt.xlim(B[1] - int(L/2), B[1])\r\n",
        "plt.show()"
      ],
      "execution_count": 124,
      "outputs": [
        {
          "output_type": "display_data",
          "data": {
            "image/png": "[encoded data removed]",
            "text/plain": [
              "<Figure size 1080x720 with 1 Axes>"
            ]
          },
          "metadata": {
            "tags": []
          }
        }
      ]
    },
    {
      "cell_type": "markdown",
      "metadata": {
        "id": "uTd4D9Kbfemb"
      },
      "source": [
        "####RMSE"
      ]
    },
    {
      "cell_type": "code",
      "metadata": {
        "id": "5hQhMH14fgDN"
      },
      "source": [
        "P = mov_avg(daily_proj,7)\r\n",
        "P1 = mov_avg(daily_proj1,7)\r\n",
        "P2 = mov_avg(daily_proj2,7)\r\n",
        "P3 = mov_avg(daily_proj3,7)\r\n",
        "P4 = mov_avg(daily_proj4,7)\r\n",
        "A = mov_avg(act,7)"
      ],
      "execution_count": 125,
      "outputs": []
    },
    {
      "cell_type": "code",
      "metadata": {
        "id": "RA0U4_QcfiGW"
      },
      "source": [
        "import math\r\n",
        "def RMSE(predicted, actual):\r\n",
        "    P = []\r\n",
        "    A = []\r\n",
        "    for i in range(len(predicted)):\r\n",
        "      if math.isnan(predicted[i]) or math.isnan(actual[i]):\r\n",
        "        continue\r\n",
        "      P.append(predicted[i])\r\n",
        "      A.append(actual[i])\r\n",
        "    mse = (np.array(P) - np.array(A))**2\r\n",
        "    rmse = np.sqrt(np.sum(mse)/len(mse))\r\n",
        "    return rmse"
      ],
      "execution_count": 126,
      "outputs": []
    },
    {
      "cell_type": "code",
      "metadata": {
        "colab": {
          "base_uri": "https://localhost:8080/",
          "height": 206
        },
        "id": "cYZupmsDfldH",
        "outputId": "59f2d4d3-0212-4656-94c0-12153d9624f3"
      },
      "source": [
        "dfR = pd.DataFrame(columns=['Model','RMSE'])\r\n",
        "dfR.loc[0,\"Model\"] = \"Vanilla LSTM\"\r\n",
        "dfR.loc[0,\"RMSE\"] = RMSE(P[-30:],A[-30:])\r\n",
        "\r\n",
        "dfR.loc[1,\"Model\"] = \"Stacked LSTM\"\r\n",
        "dfR.loc[1,\"RMSE\"] = RMSE(P1[-30:],A[-30:])\r\n",
        "\r\n",
        "dfR.loc[2,\"Model\"] = \"Bidirectional LSTM\"\r\n",
        "dfR.loc[2,\"RMSE\"] = RMSE(P2[-30:],A[-30:])\r\n",
        "\r\n",
        "dfR.loc[3,\"Model\"] = \"CNN+LSTM\"\r\n",
        "dfR.loc[3,\"RMSE\"] = RMSE(P3[-30:],A[-30:])\r\n",
        "\r\n",
        "dfR.loc[4,\"Model\"] = \"ConvLSTM\"\r\n",
        "dfR.loc[4,\"RMSE\"] = RMSE(P4[-30:],A[-30:])\r\n",
        "\r\n",
        "dfR"
      ],
      "execution_count": 127,
      "outputs": [
        {
          "output_type": "execute_result",
          "data": {
            "text/html": [
              "<div>\n",
              "<style scoped>\n",
              "    .dataframe tbody tr th:only-of-type {\n",
              "        vertical-align: middle;\n",
              "    }\n",
              "\n",
              "    .dataframe tbody tr th {\n",
              "        vertical-align: top;\n",
              "    }\n",
              "\n",
              "    .dataframe thead th {\n",
              "        text-align: right;\n",
              "    }\n",
              "</style>\n",
              "<table border=\"1\" class=\"dataframe\">\n",
              "  <thead>\n",
              "    <tr style=\"text-align: right;\">\n",
              "      <th></th>\n",
              "      <th>Model</th>\n",
              "      <th>RMSE</th>\n",
              "    </tr>\n",
              "  </thead>\n",
              "  <tbody>\n",
              "    <tr>\n",
              "      <th>0</th>\n",
              "      <td>Vanilla LSTM</td>\n",
              "      <td>187.085</td>\n",
              "    </tr>\n",
              "    <tr>\n",
              "      <th>1</th>\n",
              "      <td>Stacked LSTM</td>\n",
              "      <td>157.924</td>\n",
              "    </tr>\n",
              "    <tr>\n",
              "      <th>2</th>\n",
              "      <td>Bidirectional LSTM</td>\n",
              "      <td>178.935</td>\n",
              "    </tr>\n",
              "    <tr>\n",
              "      <th>3</th>\n",
              "      <td>CNN+LSTM</td>\n",
              "      <td>183.302</td>\n",
              "    </tr>\n",
              "    <tr>\n",
              "      <th>4</th>\n",
              "      <td>ConvLSTM</td>\n",
              "      <td>162.348</td>\n",
              "    </tr>\n",
              "  </tbody>\n",
              "</table>\n",
              "</div>"
            ],
            "text/plain": [
              "                Model     RMSE\n",
              "0        Vanilla LSTM  187.085\n",
              "1        Stacked LSTM  157.924\n",
              "2  Bidirectional LSTM  178.935\n",
              "3            CNN+LSTM  183.302\n",
              "4            ConvLSTM  162.348"
            ]
          },
          "metadata": {
            "tags": []
          },
          "execution_count": 127
        }
      ]
    }
  ]
}